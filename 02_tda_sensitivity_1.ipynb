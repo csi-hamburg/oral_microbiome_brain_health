{
 "cells": [
  {
   "cell_type": "markdown",
   "metadata": {},
   "source": [
    "# Import libraries and data"
   ]
  },
  {
   "cell_type": "code",
   "execution_count": 1,
   "metadata": {},
   "outputs": [],
   "source": [
    "import numpy as np\n",
    "np.int = np.int32\n",
    "from sklearn.preprocessing import MinMaxScaler\n",
    "from sklearn.cluster import DBSCAN\n",
    "from tmap.tda import mapper, Filter\n",
    "from tmap.tda.cover import Cover\n",
    "from tmap.tda.metric import Metric\n",
    "from tmap.tda.utils import optimize_dbscan_eps\n",
    "\n",
    "from scipy.spatial.distance import squareform,pdist\n",
    "import pandas as pd\n",
    "\n",
    "import networkx as nx"
   ]
  },
  {
   "cell_type": "code",
   "execution_count": 2,
   "metadata": {},
   "outputs": [],
   "source": [
    "from pathlib import Path\n",
    "\n",
    "code_dir=Path.cwd()\n",
    "project_dir=code_dir.parent\n",
    "input_dir=project_dir/\"input\"\n",
    "output_dir=project_dir/\"output/tda_sensitivity_1/\"\n",
    "tmp_dir=project_dir/\"tmp\"\n",
    "\n",
    "output_dir.mkdir(exist_ok=True, parents=True)"
   ]
  },
  {
   "cell_type": "code",
   "execution_count": null,
   "metadata": {},
   "outputs": [],
   "source": [
    "metadata = pd.read_csv(input_dir/\"data/metadata_df.csv\", index_col=0)\n",
    "oral_microbiome_genus = pd.read_csv(input_dir/\"data/microbiome_genus.csv\", index_col=0)"
   ]
  },
  {
   "cell_type": "code",
   "execution_count": 8,
   "metadata": {},
   "outputs": [],
   "source": [
    "# load taxa abundance data, sample metadata and precomputed distance matrix\n",
    "X = oral_microbiome_genus\n",
    "metadata = metadata.loc[metadata.index.isin(X.index)][metadata_variables]\n",
    "X = X.loc[X.index.isin(metadata.index)]"
   ]
  },
  {
   "cell_type": "code",
   "execution_count": 9,
   "metadata": {},
   "outputs": [],
   "source": [
    "metadata_categories = [col.split(\"_\")[0] for col in metadata.columns.tolist()]\n",
    "microbiome_categories = [\"genus\"] * len(X.columns.to_list())"
   ]
  },
  {
   "cell_type": "markdown",
   "metadata": {},
   "source": [
    "# Mapper"
   ]
  },
  {
   "cell_type": "code",
   "execution_count": 10,
   "metadata": {},
   "outputs": [],
   "source": [
    "def transform2node_data(graph, data, mode='mean'):\n",
    "    map_fun = {'sum': np.sum,\n",
    "               \"mean\": np.nanmean}\n",
    "    if mode not in [\"sum\", \"mean\"]:\n",
    "        raise SyntaxError('Wrong provided parameters.')\n",
    "    else:\n",
    "        aggregated_fun = map_fun[mode]\n",
    "\n",
    "    nodes = graph.nodes\n",
    "    dv = data.values\n",
    "    if data is not None:\n",
    "        node_data = {nid: aggregated_fun(dv[attr['sample'], :], 0)\n",
    "                     for nid, attr in nodes.items()}\n",
    "        node_data = pd.DataFrame.from_dict(node_data,\n",
    "                                           orient='index',\n",
    "                                           columns=data.columns)\n",
    "        return node_data"
   ]
  },
  {
   "cell_type": "code",
   "execution_count": 12,
   "metadata": {},
   "outputs": [],
   "source": [
    "step = 0.01\n",
    "robustness_array = np.arange(0.1, 1 + step, step)"
   ]
  },
  {
   "cell_type": "code",
   "execution_count": null,
   "metadata": {},
   "outputs": [],
   "source": [
    "from safepy import safe\n",
    "\n",
    "iterations = 100\n",
    "\n",
    "robustness_er_result_dict = {}\n",
    "robustness_clustering_result_dict = {}\n",
    "\n",
    "resolution = 30\n",
    "overlap = 0.75\n",
    "mapper_lens = Filter.PCOA\n",
    "mapper_distance_metric = \"braycurtis\"\n",
    "safe_distance_thresh = 0.75\n",
    "safe_neighborhood_radius = 0.1\n",
    "\n",
    "for frac in robustness_array:\n",
    "\n",
    "    i = int(round(frac * 100, 1))\n",
    "\n",
    "    for j in range(iterations):\n",
    "\n",
    "\n",
    "        X_resampled = X.sample(frac=frac, replace=False, random_state=i + j)\n",
    "\n",
    "        ################\n",
    "        #Mapper\n",
    "        ################\n",
    "\n",
    "        # TDA Step1. initiate a Mapper\n",
    "        tm = mapper.Mapper(verbose=1)\n",
    "\n",
    "        # TDA Step2. Projection\n",
    "\n",
    "        dm = squareform(pdist(X_resampled,metric=mapper_distance_metric))\n",
    "        metric = Metric(metric=\"precomputed\")\n",
    "        lens = [mapper_lens(components=[0, 1], metric=metric, random_state=100)]\n",
    "        projected_X = tm.filter(dm, lens=lens)\n",
    "\n",
    "        # Step4. Covering, clustering & mapping\n",
    "        eps = optimize_dbscan_eps(X_resampled, threshold=95)\n",
    "        clusterer = DBSCAN(eps=eps, min_samples=3)\n",
    "        cover = Cover(projected_data=MinMaxScaler().fit_transform(projected_X), resolution=resolution, overlap=overlap)#resolution=40, overlap=0.75)\n",
    "        graph = tm.map(data=X_resampled, cover=cover, clusterer=clusterer)\n",
    "        print(graph.info())\n",
    "\n",
    "        ################\n",
    "        #SAFE\n",
    "        ################\n",
    "\n",
    "        initial_nodepos = {idx:graph.nodePos[idx] for idx in range(graph.nodePos.shape[0])}\n",
    "        pos = nx.spring_layout(graph, k = 0.2, pos = initial_nodepos, seed=42)\n",
    "\n",
    "        graph.nodePos = np.array([pos[key] for key in pos.keys()])\n",
    "\n",
    "        for idx, node in enumerate(graph.nodes):\n",
    "            graph.nodes[idx][\"pos\"] = pos[idx].tolist()\n",
    "\n",
    "        edgelist_3col = nx.to_pandas_edgelist(graph)\n",
    "        edgelist_3col[\"dist\"] = 1\n",
    "        edgelist_3col.to_csv(output_dir/f\"robustness_{i}_{j}_mapper_graph_3col.txt\", sep=\"\\t\", index=False, header=None)\n",
    "\n",
    "        metadata_transformed = transform2node_data(graph, metadata.loc[X_resampled.index], mode=\"mean\")\n",
    "        oral_microbiome_genus_transformed = transform2node_data(graph, oral_microbiome_genus.loc[X_resampled.index], mode=\"mean\")\n",
    "        data_transformed = metadata_transformed.join(oral_microbiome_genus_transformed)\n",
    "        data_transformed.to_csv(output_dir/f\"robustness_{i}_{j}_mapper_graph_metadata.txt\", sep=\"\\t\", index=True)\n",
    "\n",
    "        sf = safe.SAFE(path_to_safe_data=f\"{output_dir}/safe_robustness_{i}_{j}/\")\n",
    "        sf.attribute_distance_threshold = safe_distance_thresh\n",
    "        sf.neighborhood_radius = safe_neighborhood_radius\n",
    "        sf.load_network(network_file=f\"{output_dir}/robustness_{i}_{j}_mapper_graph_3col.txt\")\n",
    "        sf.load_attributes(attribute_file=f\"{output_dir}/robustness_{i}_{j}_mapper_graph_metadata.txt\")\n",
    "        sf.define_neighborhoods()\n",
    "\n",
    "        num_permutations = 5000\n",
    "        sf.compute_pvalues(num_permutations=num_permutations)\n",
    "\n",
    "        safe_summary = sf.attributes.copy()\n",
    "        safe_summary.set_index(\"name\", inplace=True)\n",
    "        robustness_er_result_dict[f\"robustness_{i}_{j}_enrichment_ratio\"] = safe_summary[\"num_neighborhoods_enriched\"] / len(graph.nodes)\n",
    "\n",
    "        ################\n",
    "        #Clustering\n",
    "        ################\n",
    "\n",
    "        from sklearn.cluster import KMeans\n",
    "        import numpy as np\n",
    "\n",
    "        positions = pd.DataFrame(nx.get_node_attributes(graph, \"pos\")).T\n",
    "        positions.columns = [\"0\", \"1\"]\n",
    "\n",
    "        clustering_input = positions.copy()\n",
    "\n",
    "        clustering_input.columns = [str(idx) for idx in list(range(clustering_input.shape[1]))]\n",
    "        n_clusters = 2\n",
    "\n",
    "        clustering = KMeans(n_clusters=2, random_state=42).fit(clustering_input)\n",
    "        positions[\"cluster\"] = clustering.labels_\n",
    "\n",
    "        import itertools\n",
    "\n",
    "        node_subject_mapping_idx_dict = {node:list(graph.nodes[idx][\"sample\"]) for idx,node in enumerate(graph.nodes)}\n",
    "        node_subject_mapping_dict = {node:list(graph.nodes[idx][\"sample_names\"]) for idx,node in enumerate(graph.nodes)}\n",
    "\n",
    "        all_subject_indices = sorted(set(itertools.chain(*node_subject_mapping_dict.values())))\n",
    "        node_subject_df = pd.DataFrame(0, index = all_subject_indices, columns = list(graph.nodes))\n",
    "\n",
    "        for node, subjects in node_subject_mapping_dict.items():\n",
    "            for subject in subjects:\n",
    "                node_subject_df.loc[subject, node] = 1\n",
    "\n",
    "        node_subject_df = node_subject_df.loc[metadata.index[metadata.index.isin(node_subject_df.index)]]\n",
    "\n",
    "        subject_group_df = node_subject_df.T.join(positions[\"cluster\"]).groupby(\"cluster\").sum().T\n",
    "\n",
    "        def determine_cluster(row):\n",
    "            if row[0] > 0 and row[1] > 0:\n",
    "                return -1\n",
    "            elif row[0] > 0:\n",
    "                return 0\n",
    "            elif row[1] > 0:\n",
    "                return 1\n",
    "            else:\n",
    "                return np.nan\n",
    "            \n",
    "        subject_group_df[\"cluster\"] = subject_group_df.apply(determine_cluster, axis=1)\n",
    "\n",
    "        robustness_clustering_result_dict[f\"robustness_{i}_{j}_clustering\"] = subject_group_df[\"cluster\"]"
   ]
  },
  {
   "cell_type": "code",
   "execution_count": 14,
   "metadata": {},
   "outputs": [],
   "source": [
    "# save as pickle\n",
    "import pickle\n",
    "\n",
    "with open(output_dir/\"robustness_er_result_dict.pkl\", \"wb\") as f:\n",
    "    pickle.dump(robustness_er_result_dict, f)\n",
    "\n",
    "with open(output_dir/\"robustness_clustering_result_dict.pkl\", \"wb\") as f:\n",
    "    pickle.dump(robustness_clustering_result_dict, f)"
   ]
  },
  {
   "cell_type": "code",
   "execution_count": 29,
   "metadata": {},
   "outputs": [],
   "source": [
    "with open(output_dir/\"robustness_er_result_dict.pkl\", \"rb\") as f:\n",
    "    robustness_er_result_dict = pickle.load(f)\n",
    "\n",
    "with open(output_dir/\"robustness_clustering_result_dict.pkl\", \"rb\") as f:\n",
    "    robustness_clustering_result_dict = pickle.load(f)"
   ]
  },
  {
   "cell_type": "code",
   "execution_count": 15,
   "metadata": {},
   "outputs": [],
   "source": [
    "original_enrichment_ratio = pd.read_csv(project_dir/\"output/tda/metadata_safe_summary.csv\", index_col=0)\n",
    "original_clustering =  pd.read_csv(project_dir/\"output/tda/cluster_analysis/subject_clustering.csv\", index_col=0)"
   ]
  },
  {
   "cell_type": "code",
   "execution_count": 16,
   "metadata": {},
   "outputs": [],
   "source": [
    "cluster_robustness_df = original_clustering.copy()\n",
    "for frac in robustness_array:\n",
    "    for j in range(iterations):\n",
    "        i = int(round(frac * 100, 1))\n",
    "        cluster_robustness_df = cluster_robustness_df.join(robustness_clustering_result_dict[f\"robustness_{i}_{j}_clustering\"], rsuffix=f\"_{i}_{j}\")"
   ]
  },
  {
   "cell_type": "code",
   "execution_count": 17,
   "metadata": {},
   "outputs": [],
   "source": [
    "from scipy.stats import spearmanr\n",
    "from sklearn.metrics import adjusted_rand_score\n",
    "\n",
    "spearman_er_dict = {}\n",
    "ari_clustering_dict = {}\n",
    "\n",
    "for frac in robustness_array:\n",
    "    for j in range(iterations):\n",
    "\n",
    "        i = int(round(frac * 100, 1))\n",
    "        spearman_er_dict[f\"robustness_{i}_{j}_spearman\"] = spearmanr(original_enrichment_ratio[\"enrichment_ratio\"], robustness_er_result_dict[f\"robustness_{i}_{j}_enrichment_ratio\"])[0]\n",
    "        cluster_robustness_i_df = cluster_robustness_df[[\"cluster\",f\"cluster_{i}_{j}\"]].copy()\n",
    "        cluster_robustness_i_df.dropna(inplace=True)\n",
    "        ari_clustering_dict[f\"robustness_{i}_{j}_ari\"] = adjusted_rand_score(cluster_robustness_i_df[\"cluster\"], cluster_robustness_i_df[f\"cluster_{i}_{j}\"])"
   ]
  },
  {
   "cell_type": "code",
   "execution_count": 19,
   "metadata": {},
   "outputs": [],
   "source": [
    "spearman_er_dict_fin = {\"_\".join(keys.split(\"_\")[1:3]):values for keys, values in spearman_er_dict.items()}\n",
    "spearman_er_df = pd.DataFrame.from_dict(spearman_er_dict_fin, orient=\"index\", columns=[\"spearman\"])\n",
    "\n",
    "ari_clustering_dict_fin = {\"_\".join(keys.split(\"_\")[1:3]):values for keys, values in ari_clustering_dict.items()}\n",
    "ari_clustering_df = pd.DataFrame.from_dict(ari_clustering_dict_fin, orient=\"index\", columns=[\"ari\"])\n",
    "\n",
    "robustness_df = ari_clustering_df.join(spearman_er_df)\n",
    "robustness_df[\"percentage\"] = [idx[0] for idx in robustness_df.index.str.split(\"_\")]\n",
    "robustness_df.index = [idx[1] for idx in robustness_df.index.str.split(\"_\")]\n",
    "robustness_df = pd.melt(robustness_df.reset_index(), id_vars=[\"index\",\"percentage\"], value_vars=[\"ari\", \"spearman\"], var_name=\"metric\", value_name=\"value\")"
   ]
  },
  {
   "cell_type": "code",
   "execution_count": 24,
   "metadata": {},
   "outputs": [
    {
     "data": {
      "application/vnd.plotly.v1+json": {
       "config": {
        "plotlyServerURL": "https://plot.ly"
       },
       "data": [
        {
         "line": {
          "color": "blue"
         },
         "mode": "lines",
         "name": "Adjusted Rand Index (ARI) of clustering",
         "type": "scatter",
         "x": [
          10,
          11,
          12,
          13,
          14,
          15,
          16,
          17,
          18,
          19,
          20,
          21,
          22,
          23,
          24,
          25,
          26,
          27,
          28,
          29,
          30,
          31,
          32,
          33,
          34,
          35,
          36,
          37,
          38,
          39,
          40,
          41,
          42,
          43,
          44,
          45,
          46,
          47,
          48,
          49,
          50,
          51,
          52,
          53,
          54,
          55,
          56,
          57,
          58,
          59,
          60,
          61,
          62,
          63,
          64,
          65,
          66,
          67,
          68,
          69,
          70,
          71,
          72,
          73,
          74,
          75,
          76,
          77,
          78,
          79,
          80,
          81,
          82,
          83,
          84,
          85,
          86,
          87,
          88,
          89,
          90,
          91,
          92,
          93,
          94,
          95,
          96,
          97,
          98,
          99,
          100
         ],
         "y": [
          0.43048972550574854,
          0.3718390736444473,
          0.41731518712474314,
          0.43171694507144337,
          0.4793681178046976,
          0.4741590900700166,
          0.4824831602916385,
          0.5191764679878489,
          0.5128450682673827,
          0.555461064763794,
          0.5506866998277914,
          0.5819201966933146,
          0.5956183636423108,
          0.6114434885813026,
          0.599227871683201,
          0.6097411290871322,
          0.6327218572895353,
          0.6473694923268565,
          0.6628224365455142,
          0.6732926232754195,
          0.6859455431464994,
          0.6815328339590725,
          0.702795163631507,
          0.6987889799546002,
          0.7091002371173504,
          0.7246911459959616,
          0.7196951045198964,
          0.7394512345864321,
          0.7374484336111833,
          0.7613077810339114,
          0.7600411580534717,
          0.7676696332080265,
          0.7570843656721367,
          0.7775473658100678,
          0.7768152474171904,
          0.7794662471099655,
          0.7773702286322214,
          0.7718331519008363,
          0.7924460301982502,
          0.7773448067371685,
          0.7900527872135473,
          0.8048528184289325,
          0.8078713222851123,
          0.8033894864592487,
          0.8161317392977936,
          0.8268969672479872,
          0.8243099902343346,
          0.8246725101534191,
          0.8170627290814096,
          0.8349346513929637,
          0.8276615610032045,
          0.8393528671916876,
          0.843089359610957,
          0.8496272661557677,
          0.8464329858774353,
          0.8308836102778916,
          0.8408523578053783,
          0.8431674421862998,
          0.8396308153323533,
          0.8350761122687028,
          0.852271664015117,
          0.8512847572717357,
          0.846969365032463,
          0.8490821373213292,
          0.8483698458474049,
          0.847499830677685,
          0.8501366261440233,
          0.8489292377122075,
          0.8532616368138932,
          0.8541853319327142,
          0.8470220935929933,
          0.846057727153928,
          0.8487900058030132,
          0.8454369942763076,
          0.8446019609126432,
          0.8570372852916895,
          0.8541229963664625,
          0.8561466975001726,
          0.8613137534870887,
          0.8518737255463265,
          0.8588642440574284,
          0.8544185141546043,
          0.8536430761824733,
          0.8571847895255036,
          0.8729342330045378,
          0.8644317963436849,
          0.8622419761459575,
          0.8689483842203852,
          0.8630645279460697,
          0.858575553070682,
          0.9423943715327969
         ]
        },
        {
         "line": {
          "width": 0
         },
         "mode": "lines",
         "name": "ARI upper",
         "showlegend": false,
         "type": "scatter",
         "x": [
          10,
          11,
          12,
          13,
          14,
          15,
          16,
          17,
          18,
          19,
          20,
          21,
          22,
          23,
          24,
          25,
          26,
          27,
          28,
          29,
          30,
          31,
          32,
          33,
          34,
          35,
          36,
          37,
          38,
          39,
          40,
          41,
          42,
          43,
          44,
          45,
          46,
          47,
          48,
          49,
          50,
          51,
          52,
          53,
          54,
          55,
          56,
          57,
          58,
          59,
          60,
          61,
          62,
          63,
          64,
          65,
          66,
          67,
          68,
          69,
          70,
          71,
          72,
          73,
          74,
          75,
          76,
          77,
          78,
          79,
          80,
          81,
          82,
          83,
          84,
          85,
          86,
          87,
          88,
          89,
          90,
          91,
          92,
          93,
          94,
          95,
          96,
          97,
          98,
          99,
          100
         ],
         "y": [
          0.493997711874935,
          0.4321772304827252,
          0.47664949406445034,
          0.4889862115969973,
          0.5315905175696901,
          0.5262556644623847,
          0.5329110467960145,
          0.5670349030778512,
          0.5588267639199674,
          0.5980264110131481,
          0.5960933050535733,
          0.6250700034948155,
          0.6392867616589631,
          0.649779973772864,
          0.640988466388447,
          0.6471277875187372,
          0.6702015900021342,
          0.6845724727142566,
          0.6983460515398251,
          0.705451433636996,
          0.7164482972065734,
          0.7133060971395594,
          0.7334957115143024,
          0.7293261169575036,
          0.7388368346710865,
          0.7509031049767976,
          0.7486041190482084,
          0.7671857125008668,
          0.7637053717622797,
          0.7882207465994325,
          0.7844190153902864,
          0.7898057326478495,
          0.778276743717841,
          0.7977958664140952,
          0.7992494431109549,
          0.8007903864678437,
          0.7993573172575998,
          0.7927956398747895,
          0.8127985733754733,
          0.7983967937818274,
          0.8098738968214337,
          0.8224335309004719,
          0.8247545951502788,
          0.8203517269136092,
          0.8319099674669599,
          0.8436109137440149,
          0.8401903759626476,
          0.8407013257306645,
          0.832993728074434,
          0.8493637324336967,
          0.8415856387254906,
          0.8532117121747655,
          0.857159699258732,
          0.864255710924703,
          0.8605366216704574,
          0.8449761604156345,
          0.8545077299943374,
          0.8568171354354799,
          0.8527680606344266,
          0.8475054677965239,
          0.8661487719834517,
          0.8649035441768655,
          0.860497440580853,
          0.8627159669376819,
          0.8620960326897051,
          0.8612364468245826,
          0.8637630573280444,
          0.8614831000507631,
          0.866351541322194,
          0.8666639251469846,
          0.8590892493097724,
          0.8592873119529135,
          0.8614697864922513,
          0.8587738172484283,
          0.8571730259301141,
          0.8682927009817003,
          0.8661207144617944,
          0.8674693048304164,
          0.8731623146845955,
          0.8626431191489713,
          0.8690203517118746,
          0.8641622453278557,
          0.8631829371807176,
          0.8671246180616242,
          0.8826722861354754,
          0.8758050868838297,
          0.8726157925821536,
          0.8791401352793695,
          0.8734177013780049,
          0.8682456780966291,
          0.9550773869936326
         ]
        },
        {
         "fill": "tonexty",
         "fillcolor": "rgba(0,0,255,0.2)",
         "line": {
          "width": 0
         },
         "mode": "lines",
         "name": "ARI lower",
         "showlegend": false,
         "type": "scatter",
         "x": [
          10,
          11,
          12,
          13,
          14,
          15,
          16,
          17,
          18,
          19,
          20,
          21,
          22,
          23,
          24,
          25,
          26,
          27,
          28,
          29,
          30,
          31,
          32,
          33,
          34,
          35,
          36,
          37,
          38,
          39,
          40,
          41,
          42,
          43,
          44,
          45,
          46,
          47,
          48,
          49,
          50,
          51,
          52,
          53,
          54,
          55,
          56,
          57,
          58,
          59,
          60,
          61,
          62,
          63,
          64,
          65,
          66,
          67,
          68,
          69,
          70,
          71,
          72,
          73,
          74,
          75,
          76,
          77,
          78,
          79,
          80,
          81,
          82,
          83,
          84,
          85,
          86,
          87,
          88,
          89,
          90,
          91,
          92,
          93,
          94,
          95,
          96,
          97,
          98,
          99,
          100
         ],
         "y": [
          0.36698173913656207,
          0.31150091680616937,
          0.35798088018503593,
          0.37444767854588945,
          0.42714571803970514,
          0.42206251567764846,
          0.4320552737872625,
          0.4713180328978466,
          0.46686337261479804,
          0.5128957185144398,
          0.5052800946020095,
          0.5387703898918138,
          0.5519499656256585,
          0.5731070033897412,
          0.5574672769779551,
          0.5723544706555271,
          0.5952421245769365,
          0.6101665119394564,
          0.6272988215512033,
          0.641133812913843,
          0.6554427890864253,
          0.6497595707785856,
          0.6720946157487115,
          0.6682518429516968,
          0.6793636395636142,
          0.6984791870151257,
          0.6907860899915843,
          0.7117167566719975,
          0.7111914954600869,
          0.7343948154683902,
          0.7356633007166571,
          0.7455335337682035,
          0.7358919876264324,
          0.7572988652060404,
          0.754381051723426,
          0.7581421077520872,
          0.7553831400068429,
          0.7508706639268832,
          0.7720934870210271,
          0.7562928196925097,
          0.7702316776056609,
          0.7872721059573932,
          0.7909880494199457,
          0.7864272460048881,
          0.8003535111286273,
          0.8101830207519596,
          0.8084296045060216,
          0.8086436945761738,
          0.8011317300883853,
          0.8205055703522308,
          0.8137374832809184,
          0.8254940222086096,
          0.829019019963182,
          0.8349988213868323,
          0.8323293500844132,
          0.8167910601401487,
          0.8271969856164191,
          0.8295177489371197,
          0.82649357003028,
          0.8226467567408817,
          0.8383945560467823,
          0.8376659703666058,
          0.833441289484073,
          0.8354483077049765,
          0.8346436590051047,
          0.8337632145307874,
          0.8365101949600022,
          0.8363753753736519,
          0.8401717323055924,
          0.8417067387184437,
          0.8349549378762142,
          0.8328281423549425,
          0.8361102251137752,
          0.8321001713041869,
          0.8320308958951722,
          0.8457818696016788,
          0.8421252782711306,
          0.8448240901699288,
          0.849465192289582,
          0.8411043319436816,
          0.8487081364029823,
          0.844674782981353,
          0.8441032151842289,
          0.847244960989383,
          0.8631961798736001,
          0.8530585058035401,
          0.8518681597097615,
          0.8587566331614009,
          0.8527113545141345,
          0.8489054280447349,
          0.9297113560719612
         ]
        },
        {
         "line": {
          "color": "red"
         },
         "mode": "lines",
         "name": "Spearman correlation of enrichment ratios",
         "type": "scatter",
         "x": [
          10,
          11,
          12,
          13,
          14,
          15,
          16,
          17,
          18,
          19,
          20,
          21,
          22,
          23,
          24,
          25,
          26,
          27,
          28,
          29,
          30,
          31,
          32,
          33,
          34,
          35,
          36,
          37,
          38,
          39,
          40,
          41,
          42,
          43,
          44,
          45,
          46,
          47,
          48,
          49,
          50,
          51,
          52,
          53,
          54,
          55,
          56,
          57,
          58,
          59,
          60,
          61,
          62,
          63,
          64,
          65,
          66,
          67,
          68,
          69,
          70,
          71,
          72,
          73,
          74,
          75,
          76,
          77,
          78,
          79,
          80,
          81,
          82,
          83,
          84,
          85,
          86,
          87,
          88,
          89,
          90,
          91,
          92,
          93,
          94,
          95,
          96,
          97,
          98,
          99,
          100
         ],
         "y": [
          0.24592480917411508,
          0.27433357877555337,
          0.3062309747361118,
          0.33095200384616363,
          0.37639437736677606,
          0.40327418743101373,
          0.41731936921629426,
          0.4645693632552911,
          0.47708115834962056,
          0.4977441097826491,
          0.5147143799594364,
          0.5278101317143868,
          0.5527036875147295,
          0.566360793084283,
          0.578048086906573,
          0.5903150452542628,
          0.6060646094645538,
          0.609110157880143,
          0.6221004809932805,
          0.6404434140385972,
          0.6576939681675421,
          0.661695536414505,
          0.6699263962175919,
          0.6791520236078923,
          0.6932521926742552,
          0.7003756399641675,
          0.7054104109147263,
          0.7180671187110947,
          0.7232759773236864,
          0.728573483240619,
          0.7349590893561398,
          0.7413803106395987,
          0.7450756340666952,
          0.749828522008644,
          0.7527536545204703,
          0.7583140833685614,
          0.7691046628413105,
          0.7738701233137132,
          0.782152421325723,
          0.7842174592662796,
          0.7854451138535847,
          0.7918698219279432,
          0.8001167170143139,
          0.8005324011580263,
          0.8042684001919617,
          0.8052106805454042,
          0.8090646299673766,
          0.8176096561719975,
          0.8154640320963683,
          0.8178675862843072,
          0.8208736656682081,
          0.8261365537152493,
          0.8268286878590412,
          0.8285112518642967,
          0.8295566325719226,
          0.83544243067033,
          0.8366229681832128,
          0.8437082290609532,
          0.8475140071463305,
          0.845805963422168,
          0.8486553241100384,
          0.8468225302934017,
          0.8537822405141564,
          0.8558374901365002,
          0.8558651237082784,
          0.8579380762406982,
          0.8632415393196182,
          0.8623953189966335,
          0.8677492894896663,
          0.8713125513560087,
          0.869478230236462,
          0.8740494312217184,
          0.8738709155125677,
          0.8743331860279133,
          0.8802221998738624,
          0.8782549905190364,
          0.8850453377238715,
          0.8823869874456656,
          0.8846090720785496,
          0.8914291542702126,
          0.8938572821799362,
          0.8947317880364895,
          0.9009995270991324,
          0.9012624026193662,
          0.9021963986639139,
          0.9082450269715125,
          0.9112049666512989,
          0.9115315357344549,
          0.91836517227716,
          0.9267415940685982,
          0.9605633586949458
         ]
        },
        {
         "line": {
          "width": 0
         },
         "mode": "lines",
         "name": "Spearman upper",
         "showlegend": false,
         "type": "scatter",
         "x": [
          10,
          11,
          12,
          13,
          14,
          15,
          16,
          17,
          18,
          19,
          20,
          21,
          22,
          23,
          24,
          25,
          26,
          27,
          28,
          29,
          30,
          31,
          32,
          33,
          34,
          35,
          36,
          37,
          38,
          39,
          40,
          41,
          42,
          43,
          44,
          45,
          46,
          47,
          48,
          49,
          50,
          51,
          52,
          53,
          54,
          55,
          56,
          57,
          58,
          59,
          60,
          61,
          62,
          63,
          64,
          65,
          66,
          67,
          68,
          69,
          70,
          71,
          72,
          73,
          74,
          75,
          76,
          77,
          78,
          79,
          80,
          81,
          82,
          83,
          84,
          85,
          86,
          87,
          88,
          89,
          90,
          91,
          92,
          93,
          94,
          95,
          96,
          97,
          98,
          99,
          100
         ],
         "y": [
          0.2728184930591109,
          0.30270010732093705,
          0.333222415242359,
          0.35639146083804263,
          0.40010727128685136,
          0.4271795998019591,
          0.43752966738155014,
          0.48244782716902085,
          0.4951122663028403,
          0.5169275730498708,
          0.5347126480965774,
          0.546801476842601,
          0.5697564357841322,
          0.5840817605521641,
          0.5943462943006879,
          0.6048564307241062,
          0.6223722990325594,
          0.6246865594436252,
          0.637204820124173,
          0.6528014992469114,
          0.6706335843572513,
          0.6738626398230947,
          0.6838260807598452,
          0.6910541258839631,
          0.7039530405792053,
          0.7116011490338161,
          0.717637003891601,
          0.7292666483658443,
          0.7335684981496848,
          0.7388632151145403,
          0.7453134935136654,
          0.7519054168442821,
          0.7555115450782134,
          0.7594455176428849,
          0.7633128536065188,
          0.76845019692115,
          0.7789322839182613,
          0.7829339138756938,
          0.791283026424106,
          0.7924656619185437,
          0.7939192500450888,
          0.800193421551151,
          0.8080751103777388,
          0.8083762875957694,
          0.8112273026922733,
          0.8127017540415195,
          0.8161816153534399,
          0.8249181000549883,
          0.823097759760003,
          0.8247744388922001,
          0.8280886054592325,
          0.8329043355836627,
          0.8337560210368322,
          0.8350258327942217,
          0.8367087483831975,
          0.8419950961758235,
          0.8420992219939131,
          0.8499197847161735,
          0.8529949264635636,
          0.8514731906825598,
          0.8547901369195547,
          0.8533231012531572,
          0.8599136673865808,
          0.8622794914686462,
          0.8625716882860344,
          0.8642263760772751,
          0.8689094429958413,
          0.8690127074735077,
          0.8742133058228151,
          0.8776194511430975,
          0.8751037542789496,
          0.8800879256448375,
          0.8813072505659933,
          0.879861749318985,
          0.8861858011781986,
          0.8840911790959316,
          0.8901558292314075,
          0.888011281371353,
          0.8897503760383598,
          0.8961926590048644,
          0.8985972345399944,
          0.899716333907904,
          0.9053334920633773,
          0.9060423101684274,
          0.9076404209179326,
          0.9126653904513118,
          0.9156769378546927,
          0.916700250695717,
          0.923107756017397,
          0.9312301033534983,
          0.9648598230017508
         ]
        },
        {
         "fill": "tonexty",
         "fillcolor": "rgba(255,0,0,0.2)",
         "line": {
          "width": 0
         },
         "mode": "lines",
         "name": "Spearman lower",
         "showlegend": false,
         "type": "scatter",
         "x": [
          10,
          11,
          12,
          13,
          14,
          15,
          16,
          17,
          18,
          19,
          20,
          21,
          22,
          23,
          24,
          25,
          26,
          27,
          28,
          29,
          30,
          31,
          32,
          33,
          34,
          35,
          36,
          37,
          38,
          39,
          40,
          41,
          42,
          43,
          44,
          45,
          46,
          47,
          48,
          49,
          50,
          51,
          52,
          53,
          54,
          55,
          56,
          57,
          58,
          59,
          60,
          61,
          62,
          63,
          64,
          65,
          66,
          67,
          68,
          69,
          70,
          71,
          72,
          73,
          74,
          75,
          76,
          77,
          78,
          79,
          80,
          81,
          82,
          83,
          84,
          85,
          86,
          87,
          88,
          89,
          90,
          91,
          92,
          93,
          94,
          95,
          96,
          97,
          98,
          99,
          100
         ],
         "y": [
          0.2190311252891193,
          0.24596705023016968,
          0.27923953422986464,
          0.30551254685428464,
          0.35268148344670075,
          0.3793687750600684,
          0.3971090710510384,
          0.4466908993415613,
          0.45905005039640084,
          0.4785606465154274,
          0.4947161118222953,
          0.5088187865861726,
          0.5356509392453269,
          0.5486398256164019,
          0.5617498795124583,
          0.5757736597844194,
          0.5897569198965481,
          0.5935337563166608,
          0.606996141862388,
          0.6280853288302829,
          0.6447543519778329,
          0.6495284330059152,
          0.6560267116753385,
          0.6672499213318215,
          0.6825513447693051,
          0.6891501308945189,
          0.6931838179378517,
          0.7068675890563452,
          0.712983456497688,
          0.7182837513666976,
          0.7246046851986143,
          0.7308552044349154,
          0.734639723055177,
          0.7402115263744031,
          0.7421944554344218,
          0.7481779698159728,
          0.7592770417643597,
          0.7648063327517326,
          0.7730218162273401,
          0.7759692566140155,
          0.7769709776620807,
          0.7835462223047354,
          0.7921583236508889,
          0.7926885147202831,
          0.79730949769165,
          0.797719607049289,
          0.8019476445813133,
          0.8103012122890068,
          0.8078303044327336,
          0.8109607336764143,
          0.8136587258771837,
          0.8193687718468359,
          0.8199013546812501,
          0.8219966709343718,
          0.8224045167606476,
          0.8288897651648365,
          0.8311467143725125,
          0.837496673405733,
          0.8420330878290975,
          0.8401387361617761,
          0.8425205113005221,
          0.8403219593336462,
          0.847650813641732,
          0.8493954888043542,
          0.8491585591305224,
          0.8516497764041212,
          0.8575736356433952,
          0.8557779305197593,
          0.8612852731565176,
          0.86500565156892,
          0.8638527061939744,
          0.8680109367985993,
          0.866434580459142,
          0.8688046227368417,
          0.8742585985695263,
          0.8724188019421413,
          0.8799348462163356,
          0.8767626935199782,
          0.8794677681187393,
          0.8866656495355608,
          0.889117329819878,
          0.889747242165075,
          0.8966655621348876,
          0.896482495070305,
          0.8967523764098951,
          0.9038246634917133,
          0.9067329954479051,
          0.9063628207731927,
          0.9136225885369229,
          0.9222530847836982,
          0.9562668943881408
         ]
        }
       ],
       "layout": {
        "template": {
         "data": {
          "bar": [
           {
            "error_x": {
             "color": "#2a3f5f"
            },
            "error_y": {
             "color": "#2a3f5f"
            },
            "marker": {
             "line": {
              "color": "white",
              "width": 0.5
             },
             "pattern": {
              "fillmode": "overlay",
              "size": 10,
              "solidity": 0.2
             }
            },
            "type": "bar"
           }
          ],
          "barpolar": [
           {
            "marker": {
             "line": {
              "color": "white",
              "width": 0.5
             },
             "pattern": {
              "fillmode": "overlay",
              "size": 10,
              "solidity": 0.2
             }
            },
            "type": "barpolar"
           }
          ],
          "carpet": [
           {
            "aaxis": {
             "endlinecolor": "#2a3f5f",
             "gridcolor": "#C8D4E3",
             "linecolor": "#C8D4E3",
             "minorgridcolor": "#C8D4E3",
             "startlinecolor": "#2a3f5f"
            },
            "baxis": {
             "endlinecolor": "#2a3f5f",
             "gridcolor": "#C8D4E3",
             "linecolor": "#C8D4E3",
             "minorgridcolor": "#C8D4E3",
             "startlinecolor": "#2a3f5f"
            },
            "type": "carpet"
           }
          ],
          "choropleth": [
           {
            "colorbar": {
             "outlinewidth": 0,
             "ticks": ""
            },
            "type": "choropleth"
           }
          ],
          "contour": [
           {
            "colorbar": {
             "outlinewidth": 0,
             "ticks": ""
            },
            "colorscale": [
             [
              0,
              "#0d0887"
             ],
             [
              0.1111111111111111,
              "#46039f"
             ],
             [
              0.2222222222222222,
              "#7201a8"
             ],
             [
              0.3333333333333333,
              "#9c179e"
             ],
             [
              0.4444444444444444,
              "#bd3786"
             ],
             [
              0.5555555555555556,
              "#d8576b"
             ],
             [
              0.6666666666666666,
              "#ed7953"
             ],
             [
              0.7777777777777778,
              "#fb9f3a"
             ],
             [
              0.8888888888888888,
              "#fdca26"
             ],
             [
              1,
              "#f0f921"
             ]
            ],
            "type": "contour"
           }
          ],
          "contourcarpet": [
           {
            "colorbar": {
             "outlinewidth": 0,
             "ticks": ""
            },
            "type": "contourcarpet"
           }
          ],
          "heatmap": [
           {
            "colorbar": {
             "outlinewidth": 0,
             "ticks": ""
            },
            "colorscale": [
             [
              0,
              "#0d0887"
             ],
             [
              0.1111111111111111,
              "#46039f"
             ],
             [
              0.2222222222222222,
              "#7201a8"
             ],
             [
              0.3333333333333333,
              "#9c179e"
             ],
             [
              0.4444444444444444,
              "#bd3786"
             ],
             [
              0.5555555555555556,
              "#d8576b"
             ],
             [
              0.6666666666666666,
              "#ed7953"
             ],
             [
              0.7777777777777778,
              "#fb9f3a"
             ],
             [
              0.8888888888888888,
              "#fdca26"
             ],
             [
              1,
              "#f0f921"
             ]
            ],
            "type": "heatmap"
           }
          ],
          "heatmapgl": [
           {
            "colorbar": {
             "outlinewidth": 0,
             "ticks": ""
            },
            "colorscale": [
             [
              0,
              "#0d0887"
             ],
             [
              0.1111111111111111,
              "#46039f"
             ],
             [
              0.2222222222222222,
              "#7201a8"
             ],
             [
              0.3333333333333333,
              "#9c179e"
             ],
             [
              0.4444444444444444,
              "#bd3786"
             ],
             [
              0.5555555555555556,
              "#d8576b"
             ],
             [
              0.6666666666666666,
              "#ed7953"
             ],
             [
              0.7777777777777778,
              "#fb9f3a"
             ],
             [
              0.8888888888888888,
              "#fdca26"
             ],
             [
              1,
              "#f0f921"
             ]
            ],
            "type": "heatmapgl"
           }
          ],
          "histogram": [
           {
            "marker": {
             "pattern": {
              "fillmode": "overlay",
              "size": 10,
              "solidity": 0.2
             }
            },
            "type": "histogram"
           }
          ],
          "histogram2d": [
           {
            "colorbar": {
             "outlinewidth": 0,
             "ticks": ""
            },
            "colorscale": [
             [
              0,
              "#0d0887"
             ],
             [
              0.1111111111111111,
              "#46039f"
             ],
             [
              0.2222222222222222,
              "#7201a8"
             ],
             [
              0.3333333333333333,
              "#9c179e"
             ],
             [
              0.4444444444444444,
              "#bd3786"
             ],
             [
              0.5555555555555556,
              "#d8576b"
             ],
             [
              0.6666666666666666,
              "#ed7953"
             ],
             [
              0.7777777777777778,
              "#fb9f3a"
             ],
             [
              0.8888888888888888,
              "#fdca26"
             ],
             [
              1,
              "#f0f921"
             ]
            ],
            "type": "histogram2d"
           }
          ],
          "histogram2dcontour": [
           {
            "colorbar": {
             "outlinewidth": 0,
             "ticks": ""
            },
            "colorscale": [
             [
              0,
              "#0d0887"
             ],
             [
              0.1111111111111111,
              "#46039f"
             ],
             [
              0.2222222222222222,
              "#7201a8"
             ],
             [
              0.3333333333333333,
              "#9c179e"
             ],
             [
              0.4444444444444444,
              "#bd3786"
             ],
             [
              0.5555555555555556,
              "#d8576b"
             ],
             [
              0.6666666666666666,
              "#ed7953"
             ],
             [
              0.7777777777777778,
              "#fb9f3a"
             ],
             [
              0.8888888888888888,
              "#fdca26"
             ],
             [
              1,
              "#f0f921"
             ]
            ],
            "type": "histogram2dcontour"
           }
          ],
          "mesh3d": [
           {
            "colorbar": {
             "outlinewidth": 0,
             "ticks": ""
            },
            "type": "mesh3d"
           }
          ],
          "parcoords": [
           {
            "line": {
             "colorbar": {
              "outlinewidth": 0,
              "ticks": ""
             }
            },
            "type": "parcoords"
           }
          ],
          "pie": [
           {
            "automargin": true,
            "type": "pie"
           }
          ],
          "scatter": [
           {
            "fillpattern": {
             "fillmode": "overlay",
             "size": 10,
             "solidity": 0.2
            },
            "type": "scatter"
           }
          ],
          "scatter3d": [
           {
            "line": {
             "colorbar": {
              "outlinewidth": 0,
              "ticks": ""
             }
            },
            "marker": {
             "colorbar": {
              "outlinewidth": 0,
              "ticks": ""
             }
            },
            "type": "scatter3d"
           }
          ],
          "scattercarpet": [
           {
            "marker": {
             "colorbar": {
              "outlinewidth": 0,
              "ticks": ""
             }
            },
            "type": "scattercarpet"
           }
          ],
          "scattergeo": [
           {
            "marker": {
             "colorbar": {
              "outlinewidth": 0,
              "ticks": ""
             }
            },
            "type": "scattergeo"
           }
          ],
          "scattergl": [
           {
            "marker": {
             "colorbar": {
              "outlinewidth": 0,
              "ticks": ""
             }
            },
            "type": "scattergl"
           }
          ],
          "scattermapbox": [
           {
            "marker": {
             "colorbar": {
              "outlinewidth": 0,
              "ticks": ""
             }
            },
            "type": "scattermapbox"
           }
          ],
          "scatterpolar": [
           {
            "marker": {
             "colorbar": {
              "outlinewidth": 0,
              "ticks": ""
             }
            },
            "type": "scatterpolar"
           }
          ],
          "scatterpolargl": [
           {
            "marker": {
             "colorbar": {
              "outlinewidth": 0,
              "ticks": ""
             }
            },
            "type": "scatterpolargl"
           }
          ],
          "scatterternary": [
           {
            "marker": {
             "colorbar": {
              "outlinewidth": 0,
              "ticks": ""
             }
            },
            "type": "scatterternary"
           }
          ],
          "surface": [
           {
            "colorbar": {
             "outlinewidth": 0,
             "ticks": ""
            },
            "colorscale": [
             [
              0,
              "#0d0887"
             ],
             [
              0.1111111111111111,
              "#46039f"
             ],
             [
              0.2222222222222222,
              "#7201a8"
             ],
             [
              0.3333333333333333,
              "#9c179e"
             ],
             [
              0.4444444444444444,
              "#bd3786"
             ],
             [
              0.5555555555555556,
              "#d8576b"
             ],
             [
              0.6666666666666666,
              "#ed7953"
             ],
             [
              0.7777777777777778,
              "#fb9f3a"
             ],
             [
              0.8888888888888888,
              "#fdca26"
             ],
             [
              1,
              "#f0f921"
             ]
            ],
            "type": "surface"
           }
          ],
          "table": [
           {
            "cells": {
             "fill": {
              "color": "#EBF0F8"
             },
             "line": {
              "color": "white"
             }
            },
            "header": {
             "fill": {
              "color": "#C8D4E3"
             },
             "line": {
              "color": "white"
             }
            },
            "type": "table"
           }
          ]
         },
         "layout": {
          "annotationdefaults": {
           "arrowcolor": "#2a3f5f",
           "arrowhead": 0,
           "arrowwidth": 1
          },
          "autotypenumbers": "strict",
          "coloraxis": {
           "colorbar": {
            "outlinewidth": 0,
            "ticks": ""
           }
          },
          "colorscale": {
           "diverging": [
            [
             0,
             "#8e0152"
            ],
            [
             0.1,
             "#c51b7d"
            ],
            [
             0.2,
             "#de77ae"
            ],
            [
             0.3,
             "#f1b6da"
            ],
            [
             0.4,
             "#fde0ef"
            ],
            [
             0.5,
             "#f7f7f7"
            ],
            [
             0.6,
             "#e6f5d0"
            ],
            [
             0.7,
             "#b8e186"
            ],
            [
             0.8,
             "#7fbc41"
            ],
            [
             0.9,
             "#4d9221"
            ],
            [
             1,
             "#276419"
            ]
           ],
           "sequential": [
            [
             0,
             "#0d0887"
            ],
            [
             0.1111111111111111,
             "#46039f"
            ],
            [
             0.2222222222222222,
             "#7201a8"
            ],
            [
             0.3333333333333333,
             "#9c179e"
            ],
            [
             0.4444444444444444,
             "#bd3786"
            ],
            [
             0.5555555555555556,
             "#d8576b"
            ],
            [
             0.6666666666666666,
             "#ed7953"
            ],
            [
             0.7777777777777778,
             "#fb9f3a"
            ],
            [
             0.8888888888888888,
             "#fdca26"
            ],
            [
             1,
             "#f0f921"
            ]
           ],
           "sequentialminus": [
            [
             0,
             "#0d0887"
            ],
            [
             0.1111111111111111,
             "#46039f"
            ],
            [
             0.2222222222222222,
             "#7201a8"
            ],
            [
             0.3333333333333333,
             "#9c179e"
            ],
            [
             0.4444444444444444,
             "#bd3786"
            ],
            [
             0.5555555555555556,
             "#d8576b"
            ],
            [
             0.6666666666666666,
             "#ed7953"
            ],
            [
             0.7777777777777778,
             "#fb9f3a"
            ],
            [
             0.8888888888888888,
             "#fdca26"
            ],
            [
             1,
             "#f0f921"
            ]
           ]
          },
          "colorway": [
           "#636efa",
           "#EF553B",
           "#00cc96",
           "#ab63fa",
           "#FFA15A",
           "#19d3f3",
           "#FF6692",
           "#B6E880",
           "#FF97FF",
           "#FECB52"
          ],
          "font": {
           "color": "#2a3f5f"
          },
          "geo": {
           "bgcolor": "white",
           "lakecolor": "white",
           "landcolor": "white",
           "showlakes": true,
           "showland": true,
           "subunitcolor": "#C8D4E3"
          },
          "hoverlabel": {
           "align": "left"
          },
          "hovermode": "closest",
          "mapbox": {
           "style": "light"
          },
          "paper_bgcolor": "white",
          "plot_bgcolor": "white",
          "polar": {
           "angularaxis": {
            "gridcolor": "#EBF0F8",
            "linecolor": "#EBF0F8",
            "ticks": ""
           },
           "bgcolor": "white",
           "radialaxis": {
            "gridcolor": "#EBF0F8",
            "linecolor": "#EBF0F8",
            "ticks": ""
           }
          },
          "scene": {
           "xaxis": {
            "backgroundcolor": "white",
            "gridcolor": "#DFE8F3",
            "gridwidth": 2,
            "linecolor": "#EBF0F8",
            "showbackground": true,
            "ticks": "",
            "zerolinecolor": "#EBF0F8"
           },
           "yaxis": {
            "backgroundcolor": "white",
            "gridcolor": "#DFE8F3",
            "gridwidth": 2,
            "linecolor": "#EBF0F8",
            "showbackground": true,
            "ticks": "",
            "zerolinecolor": "#EBF0F8"
           },
           "zaxis": {
            "backgroundcolor": "white",
            "gridcolor": "#DFE8F3",
            "gridwidth": 2,
            "linecolor": "#EBF0F8",
            "showbackground": true,
            "ticks": "",
            "zerolinecolor": "#EBF0F8"
           }
          },
          "shapedefaults": {
           "line": {
            "color": "#2a3f5f"
           }
          },
          "ternary": {
           "aaxis": {
            "gridcolor": "#DFE8F3",
            "linecolor": "#A2B1C6",
            "ticks": ""
           },
           "baxis": {
            "gridcolor": "#DFE8F3",
            "linecolor": "#A2B1C6",
            "ticks": ""
           },
           "bgcolor": "white",
           "caxis": {
            "gridcolor": "#DFE8F3",
            "linecolor": "#A2B1C6",
            "ticks": ""
           }
          },
          "title": {
           "x": 0.05
          },
          "xaxis": {
           "automargin": true,
           "gridcolor": "#EBF0F8",
           "linecolor": "#EBF0F8",
           "ticks": "",
           "title": {
            "standoff": 15
           },
           "zerolinecolor": "#EBF0F8",
           "zerolinewidth": 2
          },
          "yaxis": {
           "automargin": true,
           "gridcolor": "#EBF0F8",
           "linecolor": "#EBF0F8",
           "ticks": "",
           "title": {
            "standoff": 15
           },
           "zerolinecolor": "#EBF0F8",
           "zerolinewidth": 2
          }
         }
        },
        "title": {
         "text": ""
        },
        "xaxis": {
         "tickmode": "array",
         "tickvals": [
          10,
          20,
          30,
          40,
          50,
          60,
          70,
          80,
          90,
          100
         ],
         "title": {
          "text": "Sample (%)"
         }
        },
        "yaxis": {
         "tickvals": [
          0.2,
          0.4,
          0.6,
          0.8,
          1
         ],
         "title": {
          "text": ""
         }
        }
       }
      }
     },
     "metadata": {},
     "output_type": "display_data"
    }
   ],
   "source": [
    "import pandas as pd\n",
    "import plotly.express as px\n",
    "import plotly.graph_objects as go\n",
    "\n",
    "# Load your data into a pandas DataFrame\n",
    "df = robustness_df.copy()\n",
    "\n",
    "# Calculate mean and confidence intervals for plotting\n",
    "grouped = df.groupby(['percentage', 'metric'])['value'].agg(['mean', 'std', 'count'])\n",
    "grouped['ci'] = 1.96 * grouped['std'] / grouped['count'] ** 0.5  # 95% confidence interval\n",
    "index_values = grouped.index\n",
    "new_index = pd.MultiIndex.from_tuples([(int(percentage), metric) for percentage, metric in index_values], names=['percentage', 'metric'])\n",
    "grouped.index = new_index\n",
    "grouped.sort_index(inplace=True)\n",
    "\n",
    "fig = go.Figure()\n",
    "\n",
    "# Plotting for 'ari'\n",
    "ari_data = grouped.xs('ari', level='metric')\n",
    "fig.add_trace(go.Scatter(\n",
    "    x=ari_data.index,\n",
    "    y=ari_data['mean'],\n",
    "    mode='lines',\n",
    "    name='Adjusted Rand Index (ARI) of clustering',\n",
    "    line=dict(color='blue')\n",
    "))\n",
    "fig.add_trace(go.Scatter(\n",
    "    x=ari_data.index,\n",
    "    y=ari_data['mean'] + ari_data['ci'],\n",
    "    mode='lines',\n",
    "    name='ARI upper',\n",
    "    line=dict(width=0),\n",
    "    showlegend=False\n",
    "))\n",
    "fig.add_trace(go.Scatter(\n",
    "    x=ari_data.index,\n",
    "    y=ari_data['mean'] - ari_data['ci'],\n",
    "    mode='lines',\n",
    "    name='ARI lower',\n",
    "    line=dict(width=0),\n",
    "    showlegend=False,\n",
    "    fill='tonexty',\n",
    "    fillcolor='rgba(0,0,255,0.2)'\n",
    "))\n",
    "\n",
    "# Plotting for 'spearman'\n",
    "spearman_data = grouped.xs('spearman', level='metric')\n",
    "fig.add_trace(go.Scatter(\n",
    "    x=spearman_data.index,\n",
    "    y=spearman_data['mean'],\n",
    "    mode='lines',\n",
    "    name='Spearman correlation of enrichment ratios',\n",
    "    line=dict(color='red')\n",
    "))\n",
    "fig.add_trace(go.Scatter(\n",
    "    x=spearman_data.index,\n",
    "    y=spearman_data['mean'] + spearman_data['ci'],\n",
    "    mode='lines',\n",
    "    name='Spearman upper',\n",
    "    line=dict(width=0),\n",
    "    showlegend=False\n",
    "))\n",
    "fig.add_trace(go.Scatter(\n",
    "    x=spearman_data.index,\n",
    "    y=spearman_data['mean'] - spearman_data['ci'],\n",
    "    mode='lines',\n",
    "    name='Spearman lower',\n",
    "    line=dict(width=0),\n",
    "    showlegend=False,\n",
    "    fill='tonexty',\n",
    "    fillcolor='rgba(255,0,0,0.2)'\n",
    "))\n",
    "\n",
    "# Update layout to show 10 steps from 0 to 100 on the x-axis\n",
    "fig.update_layout(\n",
    "    title='',\n",
    "    xaxis_title='Sample (%)',\n",
    "    yaxis_title='',\n",
    "    xaxis=dict(tickmode='array', tickvals=list(range(10, 100, 10))),\n",
    "    template='plotly_white'\n",
    ")\n",
    "\n",
    "#change xticks\n",
    "fig.update_xaxes(tickvals=[10, 20, 30, 40, 50, 60, 70, 80, 90, 100])\n",
    "fig.update_yaxes(tickvals=[0.2, 0.4, 0.6, 0.8, 1])\n",
    "\n",
    "fig.write_html(output_dir/\"robustness.html\")\n",
    "fig.write_image(output_dir/\"robustness.png\", format=\"png\", scale=10)\n",
    "fig.write_image(output_dir/\"robustness.svg\", format=\"svg\")\n",
    "\n",
    "# Show plot\n",
    "fig.show()"
   ]
  }
 ],
 "metadata": {
  "kernelspec": {
   "display_name": "brainstat",
   "language": "python",
   "name": "python3"
  },
  "language_info": {
   "codemirror_mode": {
    "name": "ipython",
    "version": 3
   },
   "file_extension": ".py",
   "mimetype": "text/x-python",
   "name": "python",
   "nbconvert_exporter": "python",
   "pygments_lexer": "ipython3",
   "version": "3.8.18"
  },
  "orig_nbformat": 4
 },
 "nbformat": 4,
 "nbformat_minor": 2
}
